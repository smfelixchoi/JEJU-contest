{
  "nbformat": 4,
  "nbformat_minor": 0,
  "metadata": {
    "colab": {
      "name": "Modeling-super-final.ipynb",
      "provenance": [],
      "collapsed_sections": [],
      "include_colab_link": true
    },
    "kernelspec": {
      "name": "python3",
      "display_name": "Python 3"
    },
    "accelerator": "GPU"
  },
  "cells": [
    {
      "cell_type": "markdown",
      "metadata": {
        "id": "view-in-github",
        "colab_type": "text"
      },
      "source": [
        "<a href=\"https://colab.research.google.com/github/smfelixchoi/JEJU-contest/blob/master/Modeling_super_final.ipynb\" target=\"_parent\"><img src=\"https://colab.research.google.com/assets/colab-badge.svg\" alt=\"Open In Colab\"/></a>"
      ]
    },
    {
      "cell_type": "code",
      "metadata": {
        "id": "pv4kMlamASEi",
        "colab_type": "code",
        "colab": {
          "base_uri": "https://localhost:8080/",
          "height": 71
        },
        "outputId": "6140c793-6004-4601-9b67-4de6bd43c4f0"
      },
      "source": [
        "import pandas as pd\n",
        "import numpy as np\n",
        "import matplotlib.pyplot as plt\n",
        "import seaborn as sns\n",
        "import warnings\n",
        "warnings.filterwarnings('ignore')"
      ],
      "execution_count": 1,
      "outputs": [
        {
          "output_type": "stream",
          "text": [
            "/usr/local/lib/python3.6/dist-packages/statsmodels/tools/_testing.py:19: FutureWarning: pandas.util.testing is deprecated. Use the functions in the public API at pandas.testing instead.\n",
            "  import pandas.util.testing as tm\n"
          ],
          "name": "stderr"
        }
      ]
    },
    {
      "cell_type": "code",
      "metadata": {
        "id": "miomk5srAWBh",
        "colab_type": "code",
        "colab": {}
      },
      "source": [
        "from sklearn.model_selection import train_test_split\n",
        "from sklearn.metrics import mean_squared_error\n",
        "from sklearn.linear_model import LinearRegression,Ridge,Lasso"
      ],
      "execution_count": 2,
      "outputs": []
    },
    {
      "cell_type": "code",
      "metadata": {
        "id": "Y-wNc385AX9w",
        "colab_type": "code",
        "colab": {
          "base_uri": "https://localhost:8080/",
          "height": 122
        },
        "outputId": "99149e08-9fb4-4fb2-e43c-70c7ae2017a1"
      },
      "source": [
        "from google.colab import drive\n",
        "drive.mount('/content/gdrive')"
      ],
      "execution_count": 3,
      "outputs": [
        {
          "output_type": "stream",
          "text": [
            "Go to this URL in a browser: https://accounts.google.com/o/oauth2/auth?client_id=947318989803-6bn6qk8qdgf4n4g3pfee6491hc0brc4i.apps.googleusercontent.com&redirect_uri=urn%3aietf%3awg%3aoauth%3a2.0%3aoob&response_type=code&scope=email%20https%3a%2f%2fwww.googleapis.com%2fauth%2fdocs.test%20https%3a%2f%2fwww.googleapis.com%2fauth%2fdrive%20https%3a%2f%2fwww.googleapis.com%2fauth%2fdrive.photos.readonly%20https%3a%2f%2fwww.googleapis.com%2fauth%2fpeopleapi.readonly\n",
            "\n",
            "Enter your authorization code:\n",
            "··········\n",
            "Mounted at /content/gdrive\n"
          ],
          "name": "stdout"
        }
      ]
    },
    {
      "cell_type": "code",
      "metadata": {
        "id": "D1VPSQdOAfLs",
        "colab_type": "code",
        "colab": {}
      },
      "source": [
        "df1 = pd.read_csv('/content/gdrive/My Drive/Jeju_credit contest/jeju_data_ver1/201901-202003.csv', header=0)\n",
        "df2 = pd.read_csv('/content/gdrive/My Drive/Jeju_credit contest/jeju_data_ver1/202004.csv', header=0)\n",
        "\n",
        "df = pd.concat([df1, df2])"
      ],
      "execution_count": 4,
      "outputs": []
    },
    {
      "cell_type": "markdown",
      "metadata": {
        "id": "27xwaPYaAjbR",
        "colab_type": "text"
      },
      "source": [
        "### Data Preprocessing"
      ]
    },
    {
      "cell_type": "code",
      "metadata": {
        "id": "dc0v5Ma4CCZR",
        "colab_type": "code",
        "colab": {}
      },
      "source": [
        "df.rename(columns = {'REG_YYMM' : 'DATE', 'SEX_CTGO_CD':'SEX'}, inplace = True)\n",
        "drop_columns = ['CARD_CCG_NM', 'HOM_SIDO_NM', 'HOM_CCG_NM']\n",
        "df.drop(drop_columns, axis=1, inplace = True)"
      ],
      "execution_count": 5,
      "outputs": []
    },
    {
      "cell_type": "code",
      "metadata": {
        "id": "8Ddfn1H6DQP7",
        "colab_type": "code",
        "colab": {}
      },
      "source": [
        "df = df.groupby(['DATE', 'CARD_SIDO_NM', 'STD_CLSS_NM', 'AGE', 'SEX', 'FLC'])['CSTMR_CNT','AMT','CNT'].sum().reset_index()\n",
        "df['revisit']=np.round(1-df['CSTMR_CNT']/df['CNT'],5)"
      ],
      "execution_count": 6,
      "outputs": []
    },
    {
      "cell_type": "code",
      "metadata": {
        "id": "n7HJtA5ZDxEV",
        "colab_type": "code",
        "colab": {}
      },
      "source": [
        "# revisit을 카테고리화하기\n",
        "def get_revisit(data):\n",
        "  if data>0:\n",
        "    data='positive'\n",
        "  elif data<0:\n",
        "    data='negative'\n",
        "  else:\n",
        "    data='balanced'\n",
        "  return data"
      ],
      "execution_count": 7,
      "outputs": []
    },
    {
      "cell_type": "code",
      "metadata": {
        "id": "253y0uiDEL7Z",
        "colab_type": "code",
        "colab": {}
      },
      "source": [
        "df['revisit']=df['revisit'].apply(lambda x: get_revisit(x))"
      ],
      "execution_count": 8,
      "outputs": []
    },
    {
      "cell_type": "code",
      "metadata": {
        "id": "MWLBnOaNDm9g",
        "colab_type": "code",
        "colab": {
          "base_uri": "https://localhost:8080/",
          "height": 204
        },
        "outputId": "0888abf9-88ee-4701-fdcf-6491ce108af1"
      },
      "source": [
        "df.drop(['CSTMR_CNT','CNT'], axis = 1, inplace = True)\n",
        "df.head()"
      ],
      "execution_count": 9,
      "outputs": [
        {
          "output_type": "execute_result",
          "data": {
            "text/html": [
              "<div>\n",
              "<style scoped>\n",
              "    .dataframe tbody tr th:only-of-type {\n",
              "        vertical-align: middle;\n",
              "    }\n",
              "\n",
              "    .dataframe tbody tr th {\n",
              "        vertical-align: top;\n",
              "    }\n",
              "\n",
              "    .dataframe thead th {\n",
              "        text-align: right;\n",
              "    }\n",
              "</style>\n",
              "<table border=\"1\" class=\"dataframe\">\n",
              "  <thead>\n",
              "    <tr style=\"text-align: right;\">\n",
              "      <th></th>\n",
              "      <th>DATE</th>\n",
              "      <th>CARD_SIDO_NM</th>\n",
              "      <th>STD_CLSS_NM</th>\n",
              "      <th>AGE</th>\n",
              "      <th>SEX</th>\n",
              "      <th>FLC</th>\n",
              "      <th>AMT</th>\n",
              "      <th>revisit</th>\n",
              "    </tr>\n",
              "  </thead>\n",
              "  <tbody>\n",
              "    <tr>\n",
              "      <th>0</th>\n",
              "      <td>201901</td>\n",
              "      <td>강원</td>\n",
              "      <td>건강보조식품 소매업</td>\n",
              "      <td>20s</td>\n",
              "      <td>1</td>\n",
              "      <td>1</td>\n",
              "      <td>311200</td>\n",
              "      <td>balanced</td>\n",
              "    </tr>\n",
              "    <tr>\n",
              "      <th>1</th>\n",
              "      <td>201901</td>\n",
              "      <td>강원</td>\n",
              "      <td>건강보조식품 소매업</td>\n",
              "      <td>30s</td>\n",
              "      <td>1</td>\n",
              "      <td>2</td>\n",
              "      <td>5169295</td>\n",
              "      <td>positive</td>\n",
              "    </tr>\n",
              "    <tr>\n",
              "      <th>2</th>\n",
              "      <td>201901</td>\n",
              "      <td>강원</td>\n",
              "      <td>건강보조식품 소매업</td>\n",
              "      <td>30s</td>\n",
              "      <td>2</td>\n",
              "      <td>2</td>\n",
              "      <td>8618550</td>\n",
              "      <td>positive</td>\n",
              "    </tr>\n",
              "    <tr>\n",
              "      <th>3</th>\n",
              "      <td>201901</td>\n",
              "      <td>강원</td>\n",
              "      <td>건강보조식품 소매업</td>\n",
              "      <td>40s</td>\n",
              "      <td>1</td>\n",
              "      <td>2</td>\n",
              "      <td>454420</td>\n",
              "      <td>balanced</td>\n",
              "    </tr>\n",
              "    <tr>\n",
              "      <th>4</th>\n",
              "      <td>201901</td>\n",
              "      <td>강원</td>\n",
              "      <td>건강보조식품 소매업</td>\n",
              "      <td>40s</td>\n",
              "      <td>1</td>\n",
              "      <td>3</td>\n",
              "      <td>6441165</td>\n",
              "      <td>positive</td>\n",
              "    </tr>\n",
              "  </tbody>\n",
              "</table>\n",
              "</div>"
            ],
            "text/plain": [
              "     DATE CARD_SIDO_NM STD_CLSS_NM  AGE  SEX  FLC      AMT   revisit\n",
              "0  201901           강원  건강보조식품 소매업  20s    1    1   311200  balanced\n",
              "1  201901           강원  건강보조식품 소매업  30s    1    2  5169295  positive\n",
              "2  201901           강원  건강보조식품 소매업  30s    2    2  8618550  positive\n",
              "3  201901           강원  건강보조식품 소매업  40s    1    2   454420  balanced\n",
              "4  201901           강원  건강보조식품 소매업  40s    1    3  6441165  positive"
            ]
          },
          "metadata": {
            "tags": []
          },
          "execution_count": 9
        }
      ]
    },
    {
      "cell_type": "code",
      "metadata": {
        "id": "oU6sXybHFGar",
        "colab_type": "code",
        "colab": {}
      },
      "source": [
        "def get_year(df):\n",
        "  df=str(df)\n",
        "  return int(df[:4])\n",
        "\n",
        "def get_month(df):\n",
        "  df=str(df)\n",
        "  return int(df[4:])"
      ],
      "execution_count": 10,
      "outputs": []
    },
    {
      "cell_type": "code",
      "metadata": {
        "id": "4aKr8pCqG5v-",
        "colab_type": "code",
        "colab": {}
      },
      "source": [
        "df['year']=df['DATE'].apply(lambda x:get_year(x))\n",
        "df['month']=df['DATE'].apply(lambda x:get_month(x))"
      ],
      "execution_count": 11,
      "outputs": []
    },
    {
      "cell_type": "code",
      "metadata": {
        "id": "WcK65eLeHHTy",
        "colab_type": "code",
        "colab": {
          "base_uri": "https://localhost:8080/",
          "height": 80
        },
        "outputId": "3c7dc7a2-427d-47a9-e823-9f9e77ba0f69"
      },
      "source": [
        "df.drop(['DATE'],axis=1,inplace=True)\n",
        "df.head(1)"
      ],
      "execution_count": 12,
      "outputs": [
        {
          "output_type": "execute_result",
          "data": {
            "text/html": [
              "<div>\n",
              "<style scoped>\n",
              "    .dataframe tbody tr th:only-of-type {\n",
              "        vertical-align: middle;\n",
              "    }\n",
              "\n",
              "    .dataframe tbody tr th {\n",
              "        vertical-align: top;\n",
              "    }\n",
              "\n",
              "    .dataframe thead th {\n",
              "        text-align: right;\n",
              "    }\n",
              "</style>\n",
              "<table border=\"1\" class=\"dataframe\">\n",
              "  <thead>\n",
              "    <tr style=\"text-align: right;\">\n",
              "      <th></th>\n",
              "      <th>CARD_SIDO_NM</th>\n",
              "      <th>STD_CLSS_NM</th>\n",
              "      <th>AGE</th>\n",
              "      <th>SEX</th>\n",
              "      <th>FLC</th>\n",
              "      <th>AMT</th>\n",
              "      <th>revisit</th>\n",
              "      <th>year</th>\n",
              "      <th>month</th>\n",
              "    </tr>\n",
              "  </thead>\n",
              "  <tbody>\n",
              "    <tr>\n",
              "      <th>0</th>\n",
              "      <td>강원</td>\n",
              "      <td>건강보조식품 소매업</td>\n",
              "      <td>20s</td>\n",
              "      <td>1</td>\n",
              "      <td>1</td>\n",
              "      <td>311200</td>\n",
              "      <td>balanced</td>\n",
              "      <td>2019</td>\n",
              "      <td>1</td>\n",
              "    </tr>\n",
              "  </tbody>\n",
              "</table>\n",
              "</div>"
            ],
            "text/plain": [
              "  CARD_SIDO_NM STD_CLSS_NM  AGE  SEX  FLC     AMT   revisit  year  month\n",
              "0           강원  건강보조식품 소매업  20s    1    1  311200  balanced  2019      1"
            ]
          },
          "metadata": {
            "tags": []
          },
          "execution_count": 12
        }
      ]
    },
    {
      "cell_type": "code",
      "metadata": {
        "id": "Wh0UffSALana",
        "colab_type": "code",
        "colab": {}
      },
      "source": [
        "from sklearn.preprocessing import LabelEncoder"
      ],
      "execution_count": 13,
      "outputs": []
    },
    {
      "cell_type": "code",
      "metadata": {
        "id": "vkUYpTP7MOkv",
        "colab_type": "code",
        "colab": {}
      },
      "source": [
        "# LabelEncoder \n",
        "dtypes = df.dtypes\n",
        "encoders = {}\n",
        "for column in df.columns:\n",
        "    if str(dtypes[column]) == 'object': # object type column label-encoding/ 숫자는 알아서 분류\n",
        "        encoder = LabelEncoder()\n",
        "        encoder.fit(df[column])\n",
        "        encoders[column] = encoder\n",
        "\n",
        "df_org = df.copy()        \n",
        "for column in encoders.keys():\n",
        "    encoder = encoders[column]\n",
        "    df_org[column] = encoder.transform(df[column])"
      ],
      "execution_count": 14,
      "outputs": []
    },
    {
      "cell_type": "code",
      "metadata": {
        "id": "9flxcEu1M9N4",
        "colab_type": "code",
        "colab": {
          "base_uri": "https://localhost:8080/",
          "height": 80
        },
        "outputId": "c2888b7a-daa9-4ad0-ec90-bc1a5f6996b7"
      },
      "source": [
        "df_org.head(1)"
      ],
      "execution_count": 15,
      "outputs": [
        {
          "output_type": "execute_result",
          "data": {
            "text/html": [
              "<div>\n",
              "<style scoped>\n",
              "    .dataframe tbody tr th:only-of-type {\n",
              "        vertical-align: middle;\n",
              "    }\n",
              "\n",
              "    .dataframe tbody tr th {\n",
              "        vertical-align: top;\n",
              "    }\n",
              "\n",
              "    .dataframe thead th {\n",
              "        text-align: right;\n",
              "    }\n",
              "</style>\n",
              "<table border=\"1\" class=\"dataframe\">\n",
              "  <thead>\n",
              "    <tr style=\"text-align: right;\">\n",
              "      <th></th>\n",
              "      <th>CARD_SIDO_NM</th>\n",
              "      <th>STD_CLSS_NM</th>\n",
              "      <th>AGE</th>\n",
              "      <th>SEX</th>\n",
              "      <th>FLC</th>\n",
              "      <th>AMT</th>\n",
              "      <th>revisit</th>\n",
              "      <th>year</th>\n",
              "      <th>month</th>\n",
              "    </tr>\n",
              "  </thead>\n",
              "  <tbody>\n",
              "    <tr>\n",
              "      <th>0</th>\n",
              "      <td>0</td>\n",
              "      <td>0</td>\n",
              "      <td>1</td>\n",
              "      <td>1</td>\n",
              "      <td>1</td>\n",
              "      <td>311200</td>\n",
              "      <td>0</td>\n",
              "      <td>2019</td>\n",
              "      <td>1</td>\n",
              "    </tr>\n",
              "  </tbody>\n",
              "</table>\n",
              "</div>"
            ],
            "text/plain": [
              "   CARD_SIDO_NM  STD_CLSS_NM  AGE  SEX  FLC     AMT  revisit  year  month\n",
              "0             0            0    1    1    1  311200        0  2019      1"
            ]
          },
          "metadata": {
            "tags": []
          },
          "execution_count": 15
        }
      ]
    },
    {
      "cell_type": "code",
      "metadata": {
        "id": "-O7gYfhKMV5M",
        "colab_type": "code",
        "colab": {
          "base_uri": "https://localhost:8080/",
          "height": 85
        },
        "outputId": "1b936920-0e7c-4c71-ffe6-60a3c87f72f8"
      },
      "source": [
        "encoders"
      ],
      "execution_count": 16,
      "outputs": [
        {
          "output_type": "execute_result",
          "data": {
            "text/plain": [
              "{'AGE': LabelEncoder(),\n",
              " 'CARD_SIDO_NM': LabelEncoder(),\n",
              " 'STD_CLSS_NM': LabelEncoder(),\n",
              " 'revisit': LabelEncoder()}"
            ]
          },
          "metadata": {
            "tags": []
          },
          "execution_count": 16
        }
      ]
    },
    {
      "cell_type": "markdown",
      "metadata": {
        "id": "J7lmcyDhNUgD",
        "colab_type": "text"
      },
      "source": [
        "### Modeling"
      ]
    },
    {
      "cell_type": "code",
      "metadata": {
        "id": "3_HUVLfgMdzS",
        "colab_type": "code",
        "colab": {}
      },
      "source": [
        "def get_traintest(df):\n",
        "  target=np.log1p(df['AMT'])\n",
        "  X=df.drop(['AMT'],axis=1)\n",
        "  X_train,X_test,y_train,y_test=train_test_split(X,target,test_size=0.2,random_state=0)\n",
        "  return target, X, X_train,X_test,y_train,y_test"
      ],
      "execution_count": 17,
      "outputs": []
    },
    {
      "cell_type": "code",
      "metadata": {
        "id": "XRPGNJJLNQ2u",
        "colab_type": "code",
        "colab": {}
      },
      "source": [
        "def get_best_params(model,params):\n",
        "  grid_model=GridSearchCV(model,param_grid=params,scoring='neg_mean_squared_error',cv=5)\n",
        "  grid_model.fit(X_train,y_train)\n",
        "  rmsle=np.sqrt(-1*grid_model.best_score_)\n",
        "  print('{0} 5 CV 평균 RMSLE: {1}, 최적 alpha: {2}'.format(model.__class__.__name__,np.round(rmsle,4),grid_model.best_params_))"
      ],
      "execution_count": 18,
      "outputs": []
    },
    {
      "cell_type": "code",
      "metadata": {
        "id": "YFjNaOzONRwO",
        "colab_type": "code",
        "colab": {}
      },
      "source": [
        "def get_model_cv_prediction(model,X,target):\n",
        "  neg_msle_scores=cross_val_score(model,X,target,scoring='neg_mean_squared_error',cv=5)\n",
        "  rmsle_scores=np.sqrt(-1*neg_msle_scores)\n",
        "  avg_rmsle=np.mean(rmsle_scores)\n",
        "  print('###',model.__class__.__name__,'###')\n",
        "  print('교차검증 개별 RMSLE:',rmsle_scores)\n",
        "  print('교차검증 평균 RMSLE:{0:.4f} '.format(avg_rmsle))"
      ],
      "execution_count": 19,
      "outputs": []
    },
    {
      "cell_type": "code",
      "metadata": {
        "id": "ovo9nnF0Neg_",
        "colab_type": "code",
        "colab": {}
      },
      "source": [
        "def rmsle(model,y_test):\n",
        "  pred=model.predict(X_test)\n",
        "  mse=mean_squared_error(y_test,pred)\n",
        "  rmse=np.sqrt(mse)\n",
        "  return rmse\n",
        "\n",
        "def get_rmsles(models):\n",
        "  rmsles=[]\n",
        "  for model in models:\n",
        "    rmsle=rmsle(model,y_test)\n",
        "    rmsles.append(rmsle)\n",
        "  return rmsles"
      ],
      "execution_count": 20,
      "outputs": []
    },
    {
      "cell_type": "code",
      "metadata": {
        "id": "G_uXdP8OPFot",
        "colab_type": "code",
        "colab": {}
      },
      "source": [
        "target,X,X_train,X_test,y_train,y_test=get_traintest(df_org)"
      ],
      "execution_count": 21,
      "outputs": []
    },
    {
      "cell_type": "code",
      "metadata": {
        "id": "-SZGiRTyOYfB",
        "colab_type": "code",
        "colab": {}
      },
      "source": [
        "from lightgbm import LGBMRegressor\n",
        "from sklearn.model_selection import GridSearchCV"
      ],
      "execution_count": 22,
      "outputs": []
    },
    {
      "cell_type": "code",
      "metadata": {
        "id": "hZWk3VvYNp1f",
        "colab_type": "code",
        "colab": {}
      },
      "source": [
        "#lgbm_params={'n_estimators':[1000,1200],'learning_rate':[0.5,0.8],'max_depth':[10,12]}\n",
        "#lgbm_reg=LGBMRegressor(n_estimators=1000,learning_rate=0.5,max_depth=10,num_leaves=10)\n",
        "#lgbm_reg.fit(X_train,y_train)\n",
        "#rmsle(lgbm_reg,y_test)\n",
        "#get_best_params(lgbm_reg,lgbm_params)"
      ],
      "execution_count": 23,
      "outputs": []
    },
    {
      "cell_type": "code",
      "metadata": {
        "id": "zLpwrCoNiw59",
        "colab_type": "code",
        "colab": {
          "base_uri": "https://localhost:8080/",
          "height": 34
        },
        "outputId": "f93425b4-257f-4893-b380-93fa9a9d0a88"
      },
      "source": [
        "lgbm_reg=LGBMRegressor(n_estimators=2000,learning_rate=0.8,max_depth=10,num_leaves=15, n_jobs = -1)\n",
        "lgbm_reg.fit(X_train,y_train)\n",
        "rmsle(lgbm_reg,y_test)"
      ],
      "execution_count": 24,
      "outputs": [
        {
          "output_type": "execute_result",
          "data": {
            "text/plain": [
              "0.4325254952921611"
            ]
          },
          "metadata": {
            "tags": []
          },
          "execution_count": 24
        }
      ]
    },
    {
      "cell_type": "code",
      "metadata": {
        "id": "OIJh4QMZk2dp",
        "colab_type": "code",
        "colab": {}
      },
      "source": [
        "CARD_SIDO_NMs = df_org['CARD_SIDO_NM'].unique()\n",
        "STD_CLSS_NMs  = df_org['STD_CLSS_NM'].unique()\n",
        "AGEs          = df_org['AGE'].unique()\n",
        "SEXs  = df_org['SEX'].unique()\n",
        "FLCs          = df_org['FLC'].unique()\n",
        "years         = [2020]\n",
        "months        = [4, 7]\n",
        "revisits=df_org['revisit'].unique()\n",
        "\n",
        "temp = []\n",
        "for CARD_SIDO_NM in CARD_SIDO_NMs:\n",
        "    for STD_CLSS_NM in STD_CLSS_NMs:\n",
        "      for AGE in AGEs:\n",
        "        for SEX in SEXs:\n",
        "          for FLC in FLCs:\n",
        "            for year in years:\n",
        "              for month in months:\n",
        "                for revisit in revisits:\n",
        "                  temp.append([CARD_SIDO_NM, STD_CLSS_NM, AGE, SEX, FLC, year, month,revisit])\n",
        "\n",
        "temp = np.array(temp)\n",
        "temp = pd.DataFrame(data=temp, columns=['CARD_SIDO_NM', 'STD_CLSS_NM', 'AGE', 'SEX', 'FLC', 'year', 'month','revisit'])"
      ],
      "execution_count": 25,
      "outputs": []
    },
    {
      "cell_type": "code",
      "metadata": {
        "id": "dU6x0HJ8lAXO",
        "colab_type": "code",
        "colab": {
          "base_uri": "https://localhost:8080/",
          "height": 204
        },
        "outputId": "3fc36533-0ba8-49a7-8772-3ae46900a38b"
      },
      "source": [
        "temp.head()"
      ],
      "execution_count": 26,
      "outputs": [
        {
          "output_type": "execute_result",
          "data": {
            "text/html": [
              "<div>\n",
              "<style scoped>\n",
              "    .dataframe tbody tr th:only-of-type {\n",
              "        vertical-align: middle;\n",
              "    }\n",
              "\n",
              "    .dataframe tbody tr th {\n",
              "        vertical-align: top;\n",
              "    }\n",
              "\n",
              "    .dataframe thead th {\n",
              "        text-align: right;\n",
              "    }\n",
              "</style>\n",
              "<table border=\"1\" class=\"dataframe\">\n",
              "  <thead>\n",
              "    <tr style=\"text-align: right;\">\n",
              "      <th></th>\n",
              "      <th>CARD_SIDO_NM</th>\n",
              "      <th>STD_CLSS_NM</th>\n",
              "      <th>AGE</th>\n",
              "      <th>SEX</th>\n",
              "      <th>FLC</th>\n",
              "      <th>year</th>\n",
              "      <th>month</th>\n",
              "      <th>revisit</th>\n",
              "    </tr>\n",
              "  </thead>\n",
              "  <tbody>\n",
              "    <tr>\n",
              "      <th>0</th>\n",
              "      <td>0</td>\n",
              "      <td>0</td>\n",
              "      <td>1</td>\n",
              "      <td>1</td>\n",
              "      <td>1</td>\n",
              "      <td>2020</td>\n",
              "      <td>4</td>\n",
              "      <td>0</td>\n",
              "    </tr>\n",
              "    <tr>\n",
              "      <th>1</th>\n",
              "      <td>0</td>\n",
              "      <td>0</td>\n",
              "      <td>1</td>\n",
              "      <td>1</td>\n",
              "      <td>1</td>\n",
              "      <td>2020</td>\n",
              "      <td>4</td>\n",
              "      <td>2</td>\n",
              "    </tr>\n",
              "    <tr>\n",
              "      <th>2</th>\n",
              "      <td>0</td>\n",
              "      <td>0</td>\n",
              "      <td>1</td>\n",
              "      <td>1</td>\n",
              "      <td>1</td>\n",
              "      <td>2020</td>\n",
              "      <td>4</td>\n",
              "      <td>1</td>\n",
              "    </tr>\n",
              "    <tr>\n",
              "      <th>3</th>\n",
              "      <td>0</td>\n",
              "      <td>0</td>\n",
              "      <td>1</td>\n",
              "      <td>1</td>\n",
              "      <td>1</td>\n",
              "      <td>2020</td>\n",
              "      <td>7</td>\n",
              "      <td>0</td>\n",
              "    </tr>\n",
              "    <tr>\n",
              "      <th>4</th>\n",
              "      <td>0</td>\n",
              "      <td>0</td>\n",
              "      <td>1</td>\n",
              "      <td>1</td>\n",
              "      <td>1</td>\n",
              "      <td>2020</td>\n",
              "      <td>7</td>\n",
              "      <td>2</td>\n",
              "    </tr>\n",
              "  </tbody>\n",
              "</table>\n",
              "</div>"
            ],
            "text/plain": [
              "   CARD_SIDO_NM  STD_CLSS_NM  AGE  SEX  FLC  year  month  revisit\n",
              "0             0            0    1    1    1  2020      4        0\n",
              "1             0            0    1    1    1  2020      4        2\n",
              "2             0            0    1    1    1  2020      4        1\n",
              "3             0            0    1    1    1  2020      7        0\n",
              "4             0            0    1    1    1  2020      7        2"
            ]
          },
          "metadata": {
            "tags": []
          },
          "execution_count": 26
        }
      ]
    },
    {
      "cell_type": "code",
      "metadata": {
        "id": "iMlVD7HaHBBA",
        "colab_type": "code",
        "colab": {}
      },
      "source": [
        "temp=temp[['CARD_SIDO_NM', 'STD_CLSS_NM', 'AGE', 'SEX', 'FLC','revisit','year', 'month',]]"
      ],
      "execution_count": 27,
      "outputs": []
    },
    {
      "cell_type": "code",
      "metadata": {
        "id": "u5eacjq5HR9e",
        "colab_type": "code",
        "colab": {
          "base_uri": "https://localhost:8080/",
          "height": 119
        },
        "outputId": "4cc8425f-6cde-4b4f-e34b-ebf3b71f24f9"
      },
      "source": [
        "# 모델 확인\n",
        "lgbm_reg"
      ],
      "execution_count": 28,
      "outputs": [
        {
          "output_type": "execute_result",
          "data": {
            "text/plain": [
              "LGBMRegressor(boosting_type='gbdt', class_weight=None, colsample_bytree=1.0,\n",
              "              importance_type='split', learning_rate=0.8, max_depth=10,\n",
              "              min_child_samples=20, min_child_weight=0.001, min_split_gain=0.0,\n",
              "              n_estimators=2000, n_jobs=-1, num_leaves=15, objective=None,\n",
              "              random_state=None, reg_alpha=0.0, reg_lambda=0.0, silent=True,\n",
              "              subsample=1.0, subsample_for_bin=200000, subsample_freq=0)"
            ]
          },
          "metadata": {
            "tags": []
          },
          "execution_count": 28
        }
      ]
    },
    {
      "cell_type": "code",
      "metadata": {
        "id": "_jIgoy29Ho7Q",
        "colab_type": "code",
        "colab": {}
      },
      "source": [
        "lgbm_reg.fit(X_train,y_train)\n",
        "pred=lgbm_reg.predict(temp)\n",
        "pred=np.expm1(pred)\n",
        "\n",
        "temp['AMT']=np.round(pred,0)\n",
        "temp['REG_YYMM'] = temp['year']*100 + temp['month']\n",
        "temp = temp[['REG_YYMM', 'CARD_SIDO_NM', 'STD_CLSS_NM', 'AMT']]\n",
        "temp = temp.groupby(['REG_YYMM', 'CARD_SIDO_NM', 'STD_CLSS_NM']).sum().reset_index(drop=False)\n",
        "temp['CARD_SIDO_NM'] = encoders['CARD_SIDO_NM'].inverse_transform(temp['CARD_SIDO_NM'])\n",
        "temp['STD_CLSS_NM'] = encoders['STD_CLSS_NM'].inverse_transform(temp['STD_CLSS_NM'])"
      ],
      "execution_count": 29,
      "outputs": []
    },
    {
      "cell_type": "code",
      "metadata": {
        "id": "kgRRLFjSIADg",
        "colab_type": "code",
        "colab": {
          "base_uri": "https://localhost:8080/",
          "height": 419
        },
        "outputId": "7f92a9e4-dcd1-4003-e937-fc839a95a79e"
      },
      "source": [
        "temp"
      ],
      "execution_count": 30,
      "outputs": [
        {
          "output_type": "execute_result",
          "data": {
            "text/html": [
              "<div>\n",
              "<style scoped>\n",
              "    .dataframe tbody tr th:only-of-type {\n",
              "        vertical-align: middle;\n",
              "    }\n",
              "\n",
              "    .dataframe tbody tr th {\n",
              "        vertical-align: top;\n",
              "    }\n",
              "\n",
              "    .dataframe thead th {\n",
              "        text-align: right;\n",
              "    }\n",
              "</style>\n",
              "<table border=\"1\" class=\"dataframe\">\n",
              "  <thead>\n",
              "    <tr style=\"text-align: right;\">\n",
              "      <th></th>\n",
              "      <th>REG_YYMM</th>\n",
              "      <th>CARD_SIDO_NM</th>\n",
              "      <th>STD_CLSS_NM</th>\n",
              "      <th>AMT</th>\n",
              "    </tr>\n",
              "  </thead>\n",
              "  <tbody>\n",
              "    <tr>\n",
              "      <th>0</th>\n",
              "      <td>202004</td>\n",
              "      <td>강원</td>\n",
              "      <td>건강보조식품 소매업</td>\n",
              "      <td>4.816346e+08</td>\n",
              "    </tr>\n",
              "    <tr>\n",
              "      <th>1</th>\n",
              "      <td>202004</td>\n",
              "      <td>강원</td>\n",
              "      <td>골프장 운영업</td>\n",
              "      <td>1.902673e+10</td>\n",
              "    </tr>\n",
              "    <tr>\n",
              "      <th>2</th>\n",
              "      <td>202004</td>\n",
              "      <td>강원</td>\n",
              "      <td>과실 및 채소 소매업</td>\n",
              "      <td>8.596681e+09</td>\n",
              "    </tr>\n",
              "    <tr>\n",
              "      <th>3</th>\n",
              "      <td>202004</td>\n",
              "      <td>강원</td>\n",
              "      <td>관광 민예품 및 선물용품 소매업</td>\n",
              "      <td>1.224251e+08</td>\n",
              "    </tr>\n",
              "    <tr>\n",
              "      <th>4</th>\n",
              "      <td>202004</td>\n",
              "      <td>강원</td>\n",
              "      <td>그외 기타 분류안된 오락관련 서비스업</td>\n",
              "      <td>6.622669e+07</td>\n",
              "    </tr>\n",
              "    <tr>\n",
              "      <th>...</th>\n",
              "      <td>...</td>\n",
              "      <td>...</td>\n",
              "      <td>...</td>\n",
              "      <td>...</td>\n",
              "    </tr>\n",
              "    <tr>\n",
              "      <th>1389</th>\n",
              "      <td>202007</td>\n",
              "      <td>충북</td>\n",
              "      <td>피자 햄버거 샌드위치 및 유사 음식점업</td>\n",
              "      <td>3.351645e+09</td>\n",
              "    </tr>\n",
              "    <tr>\n",
              "      <th>1390</th>\n",
              "      <td>202007</td>\n",
              "      <td>충북</td>\n",
              "      <td>한식 음식점업</td>\n",
              "      <td>4.723002e+10</td>\n",
              "    </tr>\n",
              "    <tr>\n",
              "      <th>1391</th>\n",
              "      <td>202007</td>\n",
              "      <td>충북</td>\n",
              "      <td>호텔업</td>\n",
              "      <td>4.980101e+07</td>\n",
              "    </tr>\n",
              "    <tr>\n",
              "      <th>1392</th>\n",
              "      <td>202007</td>\n",
              "      <td>충북</td>\n",
              "      <td>화장품 및 방향제 소매업</td>\n",
              "      <td>1.121023e+09</td>\n",
              "    </tr>\n",
              "    <tr>\n",
              "      <th>1393</th>\n",
              "      <td>202007</td>\n",
              "      <td>충북</td>\n",
              "      <td>휴양콘도 운영업</td>\n",
              "      <td>4.826223e+07</td>\n",
              "    </tr>\n",
              "  </tbody>\n",
              "</table>\n",
              "<p>1394 rows × 4 columns</p>\n",
              "</div>"
            ],
            "text/plain": [
              "      REG_YYMM CARD_SIDO_NM            STD_CLSS_NM           AMT\n",
              "0       202004           강원             건강보조식품 소매업  4.816346e+08\n",
              "1       202004           강원                골프장 운영업  1.902673e+10\n",
              "2       202004           강원            과실 및 채소 소매업  8.596681e+09\n",
              "3       202004           강원      관광 민예품 및 선물용품 소매업  1.224251e+08\n",
              "4       202004           강원   그외 기타 분류안된 오락관련 서비스업  6.622669e+07\n",
              "...        ...          ...                    ...           ...\n",
              "1389    202007           충북  피자 햄버거 샌드위치 및 유사 음식점업  3.351645e+09\n",
              "1390    202007           충북                한식 음식점업  4.723002e+10\n",
              "1391    202007           충북                    호텔업  4.980101e+07\n",
              "1392    202007           충북          화장품 및 방향제 소매업  1.121023e+09\n",
              "1393    202007           충북               휴양콘도 운영업  4.826223e+07\n",
              "\n",
              "[1394 rows x 4 columns]"
            ]
          },
          "metadata": {
            "tags": []
          },
          "execution_count": 30
        }
      ]
    },
    {
      "cell_type": "code",
      "metadata": {
        "id": "wFGEF-TcICUv",
        "colab_type": "code",
        "colab": {
          "base_uri": "https://localhost:8080/",
          "height": 235
        },
        "outputId": "d3046c6d-2498-46a7-8259-d08cbfb20040"
      },
      "source": [
        "submission = pd.read_csv('/content/gdrive/My Drive/Jeju_credit contest/jeju_data_ver1/submission.csv', index_col=0)\n",
        "submission = submission.drop(['AMT'], axis=1)\n",
        "submission = submission.merge(temp, left_on=['REG_YYMM', 'CARD_SIDO_NM', 'STD_CLSS_NM'], right_on=['REG_YYMM', 'CARD_SIDO_NM', 'STD_CLSS_NM'], how='left')\n",
        "submission.index.name = 'id'\n",
        "submission.to_csv('/content/gdrive/My Drive/Jeju_credit contest/jeju_data_ver1/final-final-submission.csv', encoding='utf-8-sig')\n",
        "submission.head()"
      ],
      "execution_count": 31,
      "outputs": [
        {
          "output_type": "execute_result",
          "data": {
            "text/html": [
              "<div>\n",
              "<style scoped>\n",
              "    .dataframe tbody tr th:only-of-type {\n",
              "        vertical-align: middle;\n",
              "    }\n",
              "\n",
              "    .dataframe tbody tr th {\n",
              "        vertical-align: top;\n",
              "    }\n",
              "\n",
              "    .dataframe thead th {\n",
              "        text-align: right;\n",
              "    }\n",
              "</style>\n",
              "<table border=\"1\" class=\"dataframe\">\n",
              "  <thead>\n",
              "    <tr style=\"text-align: right;\">\n",
              "      <th></th>\n",
              "      <th>REG_YYMM</th>\n",
              "      <th>CARD_SIDO_NM</th>\n",
              "      <th>STD_CLSS_NM</th>\n",
              "      <th>AMT</th>\n",
              "    </tr>\n",
              "    <tr>\n",
              "      <th>id</th>\n",
              "      <th></th>\n",
              "      <th></th>\n",
              "      <th></th>\n",
              "      <th></th>\n",
              "    </tr>\n",
              "  </thead>\n",
              "  <tbody>\n",
              "    <tr>\n",
              "      <th>0</th>\n",
              "      <td>202004</td>\n",
              "      <td>강원</td>\n",
              "      <td>건강보조식품 소매업</td>\n",
              "      <td>4.816346e+08</td>\n",
              "    </tr>\n",
              "    <tr>\n",
              "      <th>1</th>\n",
              "      <td>202004</td>\n",
              "      <td>강원</td>\n",
              "      <td>골프장 운영업</td>\n",
              "      <td>1.902673e+10</td>\n",
              "    </tr>\n",
              "    <tr>\n",
              "      <th>2</th>\n",
              "      <td>202004</td>\n",
              "      <td>강원</td>\n",
              "      <td>과실 및 채소 소매업</td>\n",
              "      <td>8.596681e+09</td>\n",
              "    </tr>\n",
              "    <tr>\n",
              "      <th>3</th>\n",
              "      <td>202004</td>\n",
              "      <td>강원</td>\n",
              "      <td>관광 민예품 및 선물용품 소매업</td>\n",
              "      <td>1.224251e+08</td>\n",
              "    </tr>\n",
              "    <tr>\n",
              "      <th>4</th>\n",
              "      <td>202004</td>\n",
              "      <td>강원</td>\n",
              "      <td>그외 기타 분류안된 오락관련 서비스업</td>\n",
              "      <td>6.622669e+07</td>\n",
              "    </tr>\n",
              "  </tbody>\n",
              "</table>\n",
              "</div>"
            ],
            "text/plain": [
              "    REG_YYMM CARD_SIDO_NM           STD_CLSS_NM           AMT\n",
              "id                                                           \n",
              "0     202004           강원            건강보조식품 소매업  4.816346e+08\n",
              "1     202004           강원               골프장 운영업  1.902673e+10\n",
              "2     202004           강원           과실 및 채소 소매업  8.596681e+09\n",
              "3     202004           강원     관광 민예품 및 선물용품 소매업  1.224251e+08\n",
              "4     202004           강원  그외 기타 분류안된 오락관련 서비스업  6.622669e+07"
            ]
          },
          "metadata": {
            "tags": []
          },
          "execution_count": 31
        }
      ]
    },
    {
      "cell_type": "code",
      "metadata": {
        "id": "0skktHJypGcm",
        "colab_type": "code",
        "colab": {}
      },
      "source": [
        ""
      ],
      "execution_count": null,
      "outputs": []
    }
  ]
}