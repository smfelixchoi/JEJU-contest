{
 "cells": [
  {
   "cell_type": "code",
   "execution_count": 1,
   "metadata": {},
   "outputs": [],
   "source": [
    "import pandas as pd\n",
    "import matplotlib as mpl \n",
    "import matplotlib.pyplot as plt\n",
    "import numpy as np"
   ]
  },
  {
   "cell_type": "code",
   "execution_count": 2,
   "metadata": {},
   "outputs": [],
   "source": [
    "df = pd.read_csv('/Users/sm/Documents/2020-여름/Big Data Contest/jeju_data_ver1/201901-202003.csv')"
   ]
  },
  {
   "cell_type": "code",
   "execution_count": 3,
   "metadata": {},
   "outputs": [],
   "source": [
    "df.rename(columns = {'REG_YYMM' : 'DATE', 'CARD_SIDO_NM' :'SIDO', \n",
    "                     'STD_CLSS_NM' : 'STD', 'SEX_CTGO_CD':'SEX'}, inplace = True)\n",
    "\n",
    "\n",
    "drop_columns = ['CARD_CCG_NM', 'HOM_SIDO_NM', 'HOM_CCG_NM']\n",
    "df.drop(drop_columns, axis=1, inplace = True)\n",
    "\n",
    "#AMT_mean column 추가 (이상치 제거하기 위해서.)\n",
    "df['AMT_mean'] = np.round(df['AMT'] / df['CNT'], 3)"
   ]
  },
  {
   "cell_type": "code",
   "execution_count": 4,
   "metadata": {},
   "outputs": [],
   "source": [
    "#이상치 제거하는 코드 업데이트!\n",
    "\n",
    "def no_outliers(df):\n",
    "    Q1 = df['AMT_mean'].quantile(0.25)\n",
    "    Q3 = df['AMT_mean'].quantile(0.75)\n",
    "    IQR = Q3 - Q1\n",
    "    lower_bound = Q1 - 1.5 * IQR\n",
    "    upper_bound = Q3 + 1.5 * IQR\n",
    "    amt_mean_outlier_indices = df[(df['AMT_mean'] < lower_bound) | (df['AMT_mean'] > upper_bound)].index\n",
    "    \n",
    "    Q11 = df['CNT'].quantile(0.25)\n",
    "    Q33 = df['CNT'].quantile(0.75)\n",
    "    IQRR = Q33 - Q11\n",
    "    lowerbound = Q11 - 1.5 * IQRR\n",
    "    upperbound = Q33 + 1.5 * IQRR\n",
    "    cnt_outlier_indices = df[(df['CNT'] < lowerbound) | (df['CNT'] > upperbound)].index\n",
    "    \n",
    "    total_outlier_indices = sorted(list(set(amt_mean_outlier_indices.tolist() + cnt_outlier_indices.tolist())))\n",
    "    df_out = df.drop(total_outlier_indices, axis = 0, inplace = False)\n",
    "    \n",
    "    return df_out"
   ]
  },
  {
   "cell_type": "code",
   "execution_count": 5,
   "metadata": {},
   "outputs": [
    {
     "name": "stdout",
     "output_type": "stream",
     "text": [
      "(24697792, 10)\n",
      "(19715691, 10)\n"
     ]
    }
   ],
   "source": [
    "print(df.shape)\n",
    "df = no_outliers(df)\n",
    "print(df.shape)"
   ]
  },
  {
   "cell_type": "code",
   "execution_count": 6,
   "metadata": {},
   "outputs": [
    {
     "name": "stderr",
     "output_type": "stream",
     "text": [
      "<ipython-input-6-55ab883aab99>:5: FutureWarning: Indexing with multiple keys (implicitly converted to a tuple of keys) will be deprecated, use a list instead.\n",
      "  df = df.groupby(['DATE', 'SIDO', 'STD', 'AGE', 'SEX', 'FLC'])['CSTMR_CNT','AMT','CNT'].sum().reset_index()\n"
     ]
    }
   ],
   "source": [
    "#위에서 만든 열 'AMT_mean'은 이상치를 제거하기 위해 만들었던 열이므로 다시 지운다. \n",
    "#뒤에서 groupby를 수행하면서 값에 오차가 커지기 때문 (np.round 이용했으므로)\n",
    "df.drop(['AMT_mean'], axis = 1, inplace = True)\n",
    "\n",
    "df = df.groupby(['DATE', 'SIDO', 'STD', 'AGE', 'SEX', 'FLC'])['CSTMR_CNT','AMT','CNT'].sum().reset_index()\n",
    "\n",
    "#revisit column 추가\n",
    "df['revisit'] = np.round(1 - df['CSTMR_CNT'] / df['CNT'], 5)\n",
    "\n",
    "df.drop(['CSTMR_CNT'], axis = 1, inplace = True)\n",
    "\n",
    "#revisit < 0 : 취소한 고객이 재방문한 고객보다 많음.\n",
    "#revisit값이 크면 클수록 재방문한 고객수가 많음.\n",
    "\n",
    "# target 로그 변환\n",
    "df['AMT'] = np.log1p(df['AMT'])\n",
    "\n",
    "# one-hot-encoding을 위해 str으로 바꿈\n",
    "cols = ['SEX', 'FLC']\n",
    "for col in cols:\n",
    "    df[col] = df[col].apply(str)\n",
    "    \n",
    "df_ohe = pd.get_dummies(df)"
   ]
  },
  {
   "cell_type": "code",
   "execution_count": 7,
   "metadata": {},
   "outputs": [
    {
     "name": "stdout",
     "output_type": "stream",
     "text": [
      "(190116, 9)\n",
      "(190116, 76)\n"
     ]
    }
   ],
   "source": [
    "print(df.shape)\n",
    "print(df_ohe.shape)"
   ]
  },
  {
   "cell_type": "code",
   "execution_count": 8,
   "metadata": {},
   "outputs": [
    {
     "name": "stderr",
     "output_type": "stream",
     "text": [
      "/Users/sm/opt/anaconda3/lib/python3.8/site-packages/pandas/core/frame.py:3990: SettingWithCopyWarning: \n",
      "A value is trying to be set on a copy of a slice from a DataFrame\n",
      "\n",
      "See the caveats in the documentation: https://pandas.pydata.org/pandas-docs/stable/user_guide/indexing.html#returning-a-view-versus-a-copy\n",
      "  return super().drop(\n"
     ]
    }
   ],
   "source": [
    "date_list = df['DATE'].unique().tolist()\n",
    "\n",
    "for idx, date in enumerate(date_list):\n",
    "    globals()['df{}'.format(idx + 1)] = df_ohe[df_ohe['DATE'] == date ]\n",
    "    \n",
    "for i in range(len(date_list)):\n",
    "    drop_column = ['DATE']\n",
    "    globals()['df{}'.format(i + 1)].drop(drop_column, axis = 1, inplace = True)"
   ]
  },
  {
   "cell_type": "markdown",
   "metadata": {},
   "source": [
    "일부러 보기 쉽게 df1 ~ df15로 함 (월도 맞출 겸)\n",
    "\n",
    "201901 data => df1\n",
    "\n",
    "201902 data => df2\n",
    "\n",
    "...\n",
    "\n",
    "202003 data => df15"
   ]
  },
  {
   "cell_type": "code",
   "execution_count": 9,
   "metadata": {},
   "outputs": [
    {
     "data": {
      "text/html": [
       "<div>\n",
       "<style scoped>\n",
       "    .dataframe tbody tr th:only-of-type {\n",
       "        vertical-align: middle;\n",
       "    }\n",
       "\n",
       "    .dataframe tbody tr th {\n",
       "        vertical-align: top;\n",
       "    }\n",
       "\n",
       "    .dataframe thead th {\n",
       "        text-align: right;\n",
       "    }\n",
       "</style>\n",
       "<table border=\"1\" class=\"dataframe\">\n",
       "  <thead>\n",
       "    <tr style=\"text-align: right;\">\n",
       "      <th></th>\n",
       "      <th>AMT</th>\n",
       "      <th>CNT</th>\n",
       "      <th>revisit</th>\n",
       "      <th>SIDO_강원</th>\n",
       "      <th>SIDO_경기</th>\n",
       "      <th>SIDO_경남</th>\n",
       "      <th>SIDO_경북</th>\n",
       "      <th>SIDO_광주</th>\n",
       "      <th>SIDO_대구</th>\n",
       "      <th>SIDO_대전</th>\n",
       "      <th>...</th>\n",
       "      <th>AGE_50s</th>\n",
       "      <th>AGE_60s</th>\n",
       "      <th>AGE_70s</th>\n",
       "      <th>SEX_1</th>\n",
       "      <th>SEX_2</th>\n",
       "      <th>FLC_1</th>\n",
       "      <th>FLC_2</th>\n",
       "      <th>FLC_3</th>\n",
       "      <th>FLC_4</th>\n",
       "      <th>FLC_5</th>\n",
       "    </tr>\n",
       "  </thead>\n",
       "  <tbody>\n",
       "    <tr>\n",
       "      <th>0</th>\n",
       "      <td>10.440010</td>\n",
       "      <td>6</td>\n",
       "      <td>0.16667</td>\n",
       "      <td>1</td>\n",
       "      <td>0</td>\n",
       "      <td>0</td>\n",
       "      <td>0</td>\n",
       "      <td>0</td>\n",
       "      <td>0</td>\n",
       "      <td>0</td>\n",
       "      <td>...</td>\n",
       "      <td>0</td>\n",
       "      <td>0</td>\n",
       "      <td>0</td>\n",
       "      <td>1</td>\n",
       "      <td>0</td>\n",
       "      <td>0</td>\n",
       "      <td>1</td>\n",
       "      <td>0</td>\n",
       "      <td>0</td>\n",
       "      <td>0</td>\n",
       "    </tr>\n",
       "    <tr>\n",
       "      <th>1</th>\n",
       "      <td>13.720431</td>\n",
       "      <td>23</td>\n",
       "      <td>0.08696</td>\n",
       "      <td>1</td>\n",
       "      <td>0</td>\n",
       "      <td>0</td>\n",
       "      <td>0</td>\n",
       "      <td>0</td>\n",
       "      <td>0</td>\n",
       "      <td>0</td>\n",
       "      <td>...</td>\n",
       "      <td>0</td>\n",
       "      <td>0</td>\n",
       "      <td>0</td>\n",
       "      <td>0</td>\n",
       "      <td>1</td>\n",
       "      <td>0</td>\n",
       "      <td>1</td>\n",
       "      <td>0</td>\n",
       "      <td>0</td>\n",
       "      <td>0</td>\n",
       "    </tr>\n",
       "    <tr>\n",
       "      <th>2</th>\n",
       "      <td>14.525909</td>\n",
       "      <td>31</td>\n",
       "      <td>0.09677</td>\n",
       "      <td>1</td>\n",
       "      <td>0</td>\n",
       "      <td>0</td>\n",
       "      <td>0</td>\n",
       "      <td>0</td>\n",
       "      <td>0</td>\n",
       "      <td>0</td>\n",
       "      <td>...</td>\n",
       "      <td>0</td>\n",
       "      <td>0</td>\n",
       "      <td>0</td>\n",
       "      <td>1</td>\n",
       "      <td>0</td>\n",
       "      <td>0</td>\n",
       "      <td>0</td>\n",
       "      <td>1</td>\n",
       "      <td>0</td>\n",
       "      <td>0</td>\n",
       "    </tr>\n",
       "    <tr>\n",
       "      <th>3</th>\n",
       "      <td>11.664796</td>\n",
       "      <td>5</td>\n",
       "      <td>0.00000</td>\n",
       "      <td>1</td>\n",
       "      <td>0</td>\n",
       "      <td>0</td>\n",
       "      <td>0</td>\n",
       "      <td>0</td>\n",
       "      <td>0</td>\n",
       "      <td>0</td>\n",
       "      <td>...</td>\n",
       "      <td>0</td>\n",
       "      <td>0</td>\n",
       "      <td>0</td>\n",
       "      <td>1</td>\n",
       "      <td>0</td>\n",
       "      <td>0</td>\n",
       "      <td>0</td>\n",
       "      <td>0</td>\n",
       "      <td>1</td>\n",
       "      <td>0</td>\n",
       "    </tr>\n",
       "    <tr>\n",
       "      <th>4</th>\n",
       "      <td>12.577984</td>\n",
       "      <td>18</td>\n",
       "      <td>-0.05556</td>\n",
       "      <td>1</td>\n",
       "      <td>0</td>\n",
       "      <td>0</td>\n",
       "      <td>0</td>\n",
       "      <td>0</td>\n",
       "      <td>0</td>\n",
       "      <td>0</td>\n",
       "      <td>...</td>\n",
       "      <td>0</td>\n",
       "      <td>0</td>\n",
       "      <td>0</td>\n",
       "      <td>0</td>\n",
       "      <td>1</td>\n",
       "      <td>0</td>\n",
       "      <td>0</td>\n",
       "      <td>1</td>\n",
       "      <td>0</td>\n",
       "      <td>0</td>\n",
       "    </tr>\n",
       "  </tbody>\n",
       "</table>\n",
       "<p>5 rows × 75 columns</p>\n",
       "</div>"
      ],
      "text/plain": [
       "         AMT  CNT  revisit  SIDO_강원  SIDO_경기  SIDO_경남  SIDO_경북  SIDO_광주  \\\n",
       "0  10.440010    6  0.16667        1        0        0        0        0   \n",
       "1  13.720431   23  0.08696        1        0        0        0        0   \n",
       "2  14.525909   31  0.09677        1        0        0        0        0   \n",
       "3  11.664796    5  0.00000        1        0        0        0        0   \n",
       "4  12.577984   18 -0.05556        1        0        0        0        0   \n",
       "\n",
       "   SIDO_대구  SIDO_대전  ...  AGE_50s  AGE_60s  AGE_70s  SEX_1  SEX_2  FLC_1  \\\n",
       "0        0        0  ...        0        0        0      1      0      0   \n",
       "1        0        0  ...        0        0        0      0      1      0   \n",
       "2        0        0  ...        0        0        0      1      0      0   \n",
       "3        0        0  ...        0        0        0      1      0      0   \n",
       "4        0        0  ...        0        0        0      0      1      0   \n",
       "\n",
       "   FLC_2  FLC_3  FLC_4  FLC_5  \n",
       "0      1      0      0      0  \n",
       "1      1      0      0      0  \n",
       "2      0      1      0      0  \n",
       "3      0      0      1      0  \n",
       "4      0      1      0      0  \n",
       "\n",
       "[5 rows x 75 columns]"
      ]
     },
     "execution_count": 9,
     "metadata": {},
     "output_type": "execute_result"
    }
   ],
   "source": [
    "df1.head()"
   ]
  },
  {
   "cell_type": "code",
   "execution_count": 10,
   "metadata": {},
   "outputs": [
    {
     "name": "stdout",
     "output_type": "stream",
     "text": [
      "(12629, 75)\n",
      "(12587, 75)\n",
      "(12704, 75)\n",
      "(12671, 75)\n",
      "(12829, 75)\n",
      "(12760, 75)\n",
      "(12848, 75)\n",
      "(12957, 75)\n",
      "(12792, 75)\n",
      "(12848, 75)\n",
      "(12682, 75)\n",
      "(12820, 75)\n",
      "(12752, 75)\n",
      "(12320, 75)\n",
      "(11917, 75)\n"
     ]
    }
   ],
   "source": [
    "for i in range(15):\n",
    "    print(globals()['df{}'.format(i + 1)].values.shape)"
   ]
  },
  {
   "cell_type": "markdown",
   "metadata": {},
   "source": [
    "월별 데이터의 개수가 다름. \n",
    "\n",
    "rnn input은 모두 shape이 같아야 한다.\n",
    "\n",
    "월별 데이터의 수를 무작위로 10000개 샘플링해서 training하고, 나머지 1800개 정도를 test data로 이용.\n",
    "(가장 적은 데이터 수가 11917개여서 임의로 1800개로 잡음)\n",
    "\n",
    "아니면 이상치 제거하지 않고 해도 됨. 둘 다 해보고 괜찮은 걸로 하는걸로."
   ]
  },
  {
   "cell_type": "code",
   "execution_count": 11,
   "metadata": {},
   "outputs": [],
   "source": [
    "import random"
   ]
  },
  {
   "cell_type": "code",
   "execution_count": 20,
   "metadata": {},
   "outputs": [],
   "source": [
    "def get_train_test_data(df):\n",
    "    num_of_train_data = 10000\n",
    "    list = []\n",
    "    rand_num = random.randrange(df.shape[0])\n",
    "    for i in range(num_of_train_data):\n",
    "        while rand_num in list:\n",
    "            rand_num = random.randrange(df.shape[0])\n",
    "        list.append(rand_num)\n",
    "        \n",
    "    train_index_list = sorted(list)\n",
    "    train_data = df.iloc[train_index_list,:]\n",
    "    \n",
    "    total_list = [x for x in range(df.shape[0])]\n",
    "    index_list = [i for i in total_list if i not in train_index_list]\n",
    "    \n",
    "    test_index_list = sorted(random.sample(index_list, 1800))\n",
    "    test_data = df.iloc[test_index_list,:]\n",
    "    \n",
    "    return train_data, test_data"
   ]
  },
  {
   "cell_type": "code",
   "execution_count": 21,
   "metadata": {},
   "outputs": [
    {
     "name": "stdout",
     "output_type": "stream",
     "text": [
      "train_1 shape:  (10000, 75)\n",
      "test_1 shape:  (1800, 75)\n",
      "train_2 shape:  (10000, 75)\n",
      "test_2 shape:  (1800, 75)\n",
      "train_3 shape:  (10000, 75)\n",
      "test_3 shape:  (1800, 75)\n",
      "train_4 shape:  (10000, 75)\n",
      "test_4 shape:  (1800, 75)\n",
      "train_5 shape:  (10000, 75)\n",
      "test_5 shape:  (1800, 75)\n",
      "train_6 shape:  (10000, 75)\n",
      "test_6 shape:  (1800, 75)\n",
      "train_7 shape:  (10000, 75)\n",
      "test_7 shape:  (1800, 75)\n",
      "train_8 shape:  (10000, 75)\n",
      "test_8 shape:  (1800, 75)\n",
      "train_9 shape:  (10000, 75)\n",
      "test_9 shape:  (1800, 75)\n",
      "train_10 shape:  (10000, 75)\n",
      "test_10 shape:  (1800, 75)\n",
      "train_11 shape:  (10000, 75)\n",
      "test_11 shape:  (1800, 75)\n",
      "train_12 shape:  (10000, 75)\n",
      "test_12 shape:  (1800, 75)\n",
      "train_13 shape:  (10000, 75)\n",
      "test_13 shape:  (1800, 75)\n",
      "train_14 shape:  (10000, 75)\n",
      "test_14 shape:  (1800, 75)\n",
      "train_15 shape:  (10000, 75)\n",
      "test_15 shape:  (1800, 75)\n"
     ]
    }
   ],
   "source": [
    "for i in range(len(date_list)):\n",
    "    globals()['df{}_train'.format(i+1)], globals()['df{}_test'.format(i+1)] = get_train_test_data(globals()['df{}'.format(i+1)])\n",
    "    print('train_{} shape: '.format(i+1), globals()['df{}_train'.format(i+1)].shape)\n",
    "    print('test_{} shape: '.format(i+1), globals()['df{}_test'.format(i+1)].shape)"
   ]
  },
  {
   "cell_type": "code",
   "execution_count": 22,
   "metadata": {},
   "outputs": [],
   "source": [
    "#나중에 train과 test로 나눈 후에 만들기.\n",
    "\n",
    "for i in range(len(date_list)):\n",
    "    globals()['train_target_{}'.format(i+1)] = globals()['df{}_train'.format(i + 1)]['AMT']\n",
    "    globals()['train_features_{}'.format(i+1)] = globals()['df{}_train'.format(i + 1)].drop(['AMT'], axis = 1, inplace = False)\n",
    "    \n",
    "    globals()['test_target_{}'.format(i+1)] = globals()['df{}_test'.format(i + 1)]['AMT']\n",
    "    globals()['test_features_{}'.format(i+1)] = globals()['df{}_test'.format(i + 1)].drop(['AMT'], axis = 1, inplace = False)\n",
    "    "
   ]
  },
  {
   "cell_type": "code",
   "execution_count": 23,
   "metadata": {},
   "outputs": [],
   "source": [
    "def reshaping_train_features(df):\n",
    "    return df.values.reshape(1,10000,74)\n",
    "\n",
    "train_input = reshaping_train_features(train_features_1)\n",
    "for i in range(len(date_list)-1):\n",
    "    train_input = np.concatenate((train_input,reshaping_train_features(globals()['train_features_{}'.format(i+2)])))"
   ]
  },
  {
   "cell_type": "markdown",
   "metadata": {},
   "source": [
    "RNN에서 시계열 데이터는 총 15개.\n",
    "\n",
    "각 시계열 데이터는 10000개의 데이터를 가지고 74개의 feature를 지니고 있음.\n",
    "\n",
    "각 시계열 데이터에서의 원하는 타겟은 단 하나(AMT). "
   ]
  },
  {
   "cell_type": "code",
   "execution_count": 24,
   "metadata": {},
   "outputs": [
    {
     "data": {
      "text/plain": [
       "(15, 10000, 74)"
      ]
     },
     "execution_count": 24,
     "metadata": {},
     "output_type": "execute_result"
    }
   ],
   "source": [
    "train_input.shape"
   ]
  },
  {
   "cell_type": "code",
   "execution_count": 25,
   "metadata": {},
   "outputs": [],
   "source": [
    "def reshaping_train_targets(df):\n",
    "    return df.values.reshape(1,-1,1)\n",
    "\n",
    "train_output = reshaping_train_targets(train_target_1)\n",
    "for i in range(len(date_list)-1):\n",
    "    train_output = np.concatenate((train_output, reshaping_train_targets(globals()['train_target_{}'.format(i+2)])))"
   ]
  },
  {
   "cell_type": "code",
   "execution_count": 26,
   "metadata": {},
   "outputs": [
    {
     "data": {
      "text/plain": [
       "(15, 10000, 1)"
      ]
     },
     "execution_count": 26,
     "metadata": {},
     "output_type": "execute_result"
    }
   ],
   "source": [
    "train_output.shape"
   ]
  },
  {
   "cell_type": "code",
   "execution_count": 27,
   "metadata": {},
   "outputs": [],
   "source": [
    "def reshaping_test_features(df):\n",
    "    return df.values.reshape(1,1800,74)\n",
    "\n",
    "test_input = reshaping_test_features(test_features_1)\n",
    "for i in range(len(date_list)-1):\n",
    "    test_input = np.concatenate((test_input,reshaping_test_features(globals()['test_features_{}'.format(i+2)])))"
   ]
  },
  {
   "cell_type": "code",
   "execution_count": 28,
   "metadata": {},
   "outputs": [
    {
     "data": {
      "text/plain": [
       "(15, 1800, 74)"
      ]
     },
     "execution_count": 28,
     "metadata": {},
     "output_type": "execute_result"
    }
   ],
   "source": [
    "test_input.shape"
   ]
  },
  {
   "cell_type": "code",
   "execution_count": 29,
   "metadata": {},
   "outputs": [],
   "source": [
    "def reshaping_test_targets(df):\n",
    "    return df.values.reshape(1,-1,1)\n",
    "\n",
    "test_output = reshaping_test_targets(test_target_1)\n",
    "for i in range(len(date_list)-1):\n",
    "    test_output = np.concatenate((test_output, reshaping_test_targets(globals()['test_target_{}'.format(i+2)])))"
   ]
  },
  {
   "cell_type": "code",
   "execution_count": 30,
   "metadata": {},
   "outputs": [
    {
     "data": {
      "text/plain": [
       "(15, 1800, 1)"
      ]
     },
     "execution_count": 30,
     "metadata": {},
     "output_type": "execute_result"
    }
   ],
   "source": [
    "test_output.shape"
   ]
  },
  {
   "cell_type": "code",
   "execution_count": null,
   "metadata": {},
   "outputs": [],
   "source": []
  }
 ],
 "metadata": {
  "kernelspec": {
   "display_name": "Python 3",
   "language": "python",
   "name": "python3"
  },
  "language_info": {
   "codemirror_mode": {
    "name": "ipython",
    "version": 3
   },
   "file_extension": ".py",
   "mimetype": "text/x-python",
   "name": "python",
   "nbconvert_exporter": "python",
   "pygments_lexer": "ipython3",
   "version": "3.8.3"
  }
 },
 "nbformat": 4,
 "nbformat_minor": 4
}
